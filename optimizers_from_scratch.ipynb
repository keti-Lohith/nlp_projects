{
  "cells": [
    {
      "cell_type": "code",
      "execution_count": null,
      "id": "obvious-looking",
      "metadata": {
        "id": "obvious-looking"
      },
      "outputs": [],
      "source": [
        "import numpy as np\n",
        "import matplotlib.pyplot as plt\n",
        "import random"
      ]
    },
    {
      "cell_type": "code",
      "execution_count": null,
      "id": "interracial-chess",
      "metadata": {
        "id": "interracial-chess"
      },
      "outputs": [],
      "source": [
        "X_train = np.loadtxt('train_X.csv', delimiter = ',').T\n",
        "Y_train = np.loadtxt('train_label.csv', delimiter = ',').T\n",
        "\n",
        "X_test = np.loadtxt('test_X.csv', delimiter = ',').T\n",
        "Y_test = np.loadtxt('test_label.csv', delimiter = ',').T"
      ]
    },
    {
      "cell_type": "code",
      "execution_count": null,
      "id": "continental-paragraph",
      "metadata": {
        "colab": {
          "base_uri": "https://localhost:8080/"
        },
        "id": "continental-paragraph",
        "outputId": "4ee687aa-c3c7-4d92-c4c7-f34f19e9eb72"
      },
      "outputs": [
        {
          "name": "stdout",
          "output_type": "stream",
          "text": [
            "shape of X_train : (784, 1000)\n",
            "shape of Y_train : (10, 1000)\n",
            "shape of X_test : (784, 350)\n",
            "shape of Y_test : (10, 350)\n"
          ]
        }
      ],
      "source": [
        "print(\"shape of X_train :\", X_train.shape)\n",
        "print(\"shape of Y_train :\", Y_train.shape)\n",
        "print(\"shape of X_test :\", X_test.shape)\n",
        "print(\"shape of Y_test :\", Y_test.shape)"
      ]
    },
    {
      "cell_type": "code",
      "execution_count": null,
      "id": "certain-elizabeth",
      "metadata": {
        "colab": {
          "base_uri": "https://localhost:8080/",
          "height": 430
        },
        "id": "certain-elizabeth",
        "outputId": "29fa474a-2494-4010-fd53-2e29fa42676f"
      },
      "outputs": [
        {
          "data": {
            "image/png": "[encoded data removed]",
            "text/plain": [
              "<Figure size 432x288 with 1 Axes>"
            ]
          },
          "metadata": {
            "needs_background": "light"
          },
          "output_type": "display_data"
        }
      ],
      "source": [
        "index = random.randrange(0, X_train.shape[1])\n",
        "plt.imshow(X_train[:, index].reshape(28, 28), cmap = 'gray')\n",
        "plt.show()"
      ]
    },
    {
      "cell_type": "code",
      "execution_count": null,
      "id": "centered-tunnel",
      "metadata": {
        "id": "centered-tunnel"
      },
      "outputs": [],
      "source": [
        "def tanh(x):\n",
        "    return np.tanh(x)\n",
        "\n",
        "def relu(x):\n",
        "    return np.maximum(x, 0)\n",
        "def sigmoid(x):\n",
        "    clipped_x = np.clip(x, -500, 500)  # Clip x to avoid overflow\n",
        "    return 1 / (1 + np.exp(-clipped_x))\n",
        "def softmax(x):\n",
        "    exp_x = np.exp(x - np.max(x, axis=0, keepdims=True))\n",
        "    return exp_x / np.sum(exp_x, axis=0, keepdims=True)\n"
      ]
    },
    {
      "cell_type": "code",
      "execution_count": null,
      "id": "functional-monthly",
      "metadata": {
        "id": "functional-monthly"
      },
      "outputs": [],
      "source": [
        "def derivative_sigmoid(x):\n",
        "    sig_x = sigmoid(x)\n",
        "    return sig_x * (1 - sig_x)\n",
        "\n",
        "def derivative_relu(x):\n",
        "    return np.array(x > 0, dtype = np.float32)"
      ]
    },
    {
      "cell_type": "code",
      "execution_count": null,
      "id": "prepared-heritage",
      "metadata": {
        "id": "prepared-heritage"
      },
      "outputs": [],
      "source": [
        "def initialize_parameters(n_x, n_h, n_y):\n",
        "    w1 = np.random.randn(n_h, n_x)*0.01\n",
        "    b1 = np.zeros((n_h, 1))\n",
        "\n",
        "    w2 = np.random.randn(n_y, n_h)*0.01\n",
        "    b2 = np.zeros((n_y, 1))\n",
        "\n",
        "    parameters = {\n",
        "        \"w1\" : w1,\n",
        "        \"b1\" : b1,\n",
        "        \"w2\" : w2,\n",
        "        \"b2\" : b2\n",
        "    }\n",
        "\n",
        "    return parameters"
      ]
    },
    {
      "cell_type": "code",
      "execution_count": null,
      "id": "voluntary-sigma",
      "metadata": {
        "id": "voluntary-sigma"
      },
      "outputs": [],
      "source": [
        "def forward_propagation(x, parameters):\n",
        "\n",
        "    w1 = parameters['w1']\n",
        "    b1 = parameters['b1']\n",
        "    w2 = parameters['w2']\n",
        "    b2 = parameters['b2']\n",
        "\n",
        "    z1 = np.dot(w1, x) + b1\n",
        "    a1 = sigmoid(z1)\n",
        "\n",
        "    z2 = np.dot(w2, a1) + b2\n",
        "    a2 = softmax(z2)\n",
        "\n",
        "    forward_cache = {\n",
        "        \"z1\" : z1,\n",
        "        \"a1\" : a1,\n",
        "        \"z2\" : z2,\n",
        "        \"a2\" : a2\n",
        "    }\n",
        "\n",
        "    return forward_cache"
      ]
    },
    {
      "cell_type": "code",
      "execution_count": null,
      "id": "legendary-playback",
      "metadata": {
        "id": "legendary-playback"
      },
      "outputs": [],
      "source": [
        "def cost_function(a2, y):\n",
        "    m = y.shape[1]\n",
        "\n",
        "    # Avoiding division by zero in case of numerical instability\n",
        "    epsilon = 1e-15\n",
        "    a2 = np.clip(a2, epsilon, 1 - epsilon)\n",
        "\n",
        "    cost = -(1/m) * np.sum(y * np.log(a2))\n",
        "\n",
        "    return cost\n"
      ]
    },
    {
      "cell_type": "code",
      "execution_count": null,
      "id": "weird-lyric",
      "metadata": {
        "id": "weird-lyric"
      },
      "outputs": [],
      "source": [
        "def backward_prop(x, y, parameters, forward_cache):\n",
        "\n",
        "    w1 = parameters['w1']\n",
        "    b1 = parameters['b1']\n",
        "    w2 = parameters['w2']\n",
        "    b2 = parameters['b2']\n",
        "\n",
        "    a1 = forward_cache['a1']\n",
        "    a2 = forward_cache['a2']\n",
        "\n",
        "    m = x.shape[1]\n",
        "\n",
        "    dz2 = (a2 - y)\n",
        "    dw2 = (1/m)*np.dot(dz2, a1.T)\n",
        "    db2 = (1/m)*np.sum(dz2, axis = 1, keepdims = True)\n",
        "\n",
        "    dz1 = (1/m)*np.dot(w2.T, dz2)*derivative_sigmoid(a1)\n",
        "    dw1 = (1/m)*np.dot(dz1, x.T)\n",
        "    db1 = (1/m)*np.sum(dz1, axis = 1, keepdims = True)\n",
        "\n",
        "    gradients = {\n",
        "        \"dw1\" : dw1,\n",
        "        \"db1\" : db1,\n",
        "        \"dw2\" : dw2,\n",
        "        \"db2\" : db2\n",
        "    }\n",
        "\n",
        "    return gradients"
      ]
    },
    {
      "cell_type": "code",
      "execution_count": null,
      "id": "h3rZxWWwAPSj",
      "metadata": {
        "id": "h3rZxWWwAPSj"
      },
      "outputs": [],
      "source": [
        "def initialize_velocity(parameters):\n",
        "\n",
        "\n",
        "    L = len(parameters) // 2 # number of layers in the neural networks\n",
        "    v = {}\n",
        "\n",
        "    # Initialize velocity\n",
        "    for l in range(L):\n",
        "        ### START CODE HERE ### (approx. 2 lines)\n",
        "        v[\"dw\" + str(l + 1)] = np.zeros_like(parameters[\"w\" + str(l+1)])\n",
        "        v[\"db\" + str(l + 1)] = np.zeros_like(parameters[\"b\" + str(l+1)])\n",
        "        ### END CODE HERE ###\n",
        "\n",
        "    return v"
      ]
    },
    {
      "cell_type": "code",
      "execution_count": null,
      "id": "kiekoMESASlO",
      "metadata": {
        "id": "kiekoMESASlO"
      },
      "outputs": [],
      "source": [
        "def update_parameters_with_momentum(parameters, grads, learning_rate, v, beta) :\n",
        "\n",
        "    L = len(parameters) // 2 # number of layers in the neural networks\n",
        "\n",
        "    # Momentum update for each parameter\n",
        "    for l in range(L):\n",
        "\n",
        "        # compute velocities\n",
        "        v['dw' + str(l + 1)] = beta * v['dw' + str(l + 1)] +  grads['dw' + str(l + 1)]\n",
        "        v['db' + str(l + 1)] = beta * v['db' + str(l + 1)] +  grads['db' + str(l + 1)]\n",
        "        # update parameters\n",
        "        parameters[\"w\" + str(l + 1)] = parameters[\"w\" + str(l + 1)] - learning_rate * v['dw' + str(l + 1)]\n",
        "        parameters[\"b\" + str(l + 1)] = parameters[\"b\" + str(l + 1)] - learning_rate * v['db' + str(l + 1)]\n",
        "\n",
        "    return parameters,v"
      ]
    },
    {
      "cell_type": "code",
      "execution_count": null,
      "id": "YJrs8W_hxOrD",
      "metadata": {
        "id": "YJrs8W_hxOrD"
      },
      "outputs": [],
      "source": [
        "def initialize_adam(parameters) :\n",
        "    L = len(parameters) //2  # number of layers in the neural networks\n",
        "    v = {}\n",
        "    s = {}\n",
        "\n",
        "\n",
        "    # Initialize v, s. Input: \"parameters\". Outputs: \"v, s\".\n",
        "    for l in range(L):\n",
        "    ### START CODE HERE ### (approx. 4 lines)\n",
        "        v[\"dw\" + str(l + 1)] = np.zeros_like(parameters[\"w\" + str(l + 1)])\n",
        "        v[\"db\" + str(l + 1)] = np.zeros_like(parameters[\"b\" + str(l + 1)])\n",
        "\n",
        "        s[\"dw\" + str(l+1)] = np.zeros_like(parameters[\"w\" + str(l + 1)])\n",
        "        s[\"db\" + str(l+1)] = np.zeros_like(parameters[\"b\" + str(l + 1)])\n",
        "    ### END CODE HERE ###\n",
        "\n",
        "    return v, s"
      ]
    },
    {
      "cell_type": "code",
      "execution_count": null,
      "id": "R-CVHAzIxZfY",
      "metadata": {
        "id": "R-CVHAzIxZfY"
      },
      "outputs": [],
      "source": [
        "def update_parameters_with_adam(parameters, grads, v, s, t, learning_rate=0.01,\n",
        "                                beta1=0.9, beta2=0.999, epsilon=1e-8):\n",
        "\n",
        "    L = len(parameters) // 2                 # number of layers in the neural networks\n",
        "    v_corrected = {}                         # Initializing first moment estimate, python dictionary\n",
        "    s_corrected = {}                         # Initializing second moment estimate, python dictionary\n",
        "    for l in range(L):\n",
        "        # Moving average of the gradients. Inputs: \"v, grads, beta1\". Output: \"v\".\n",
        "        v[\"dw\" + str(l + 1)] = beta1 * v[\"dw\" + str(l + 1)] + (1 - beta1) * grads['dw' + str(l + 1)]\n",
        "        v[\"db\" + str(l + 1)] = beta1 * v[\"db\" + str(l + 1)] + (1 - beta1) * grads['db' + str(l + 1)]\n",
        "\n",
        "        # Compute bias-corrected first moment estimate. Inputs: \"v, beta1, t\". Output: \"v_corrected\".\n",
        "        v_corrected[\"dw\" + str(l + 1)] = v[\"dw\" + str(l + 1)] / (1 - np.power(beta1, t))\n",
        "        v_corrected[\"db\" + str(l + 1)] = v[\"db\" + str(l + 1)] / (1 - np.power(beta1, t))\n",
        "\n",
        "        # Moving average of the squared gradients. Inputs: \"s, grads, beta2\". Output: \"s\".\n",
        "        s[\"dw\" + str(l + 1)] = beta2 * s[\"dw\" + str(l + 1)] + (1 - beta2) * np.power(grads['dw' + str(l + 1)], 2)\n",
        "        s[\"db\" + str(l + 1)] = beta2 * s[\"db\" + str(l + 1)] + (1 - beta2) * np.power(grads['db' + str(l + 1)], 2)\n",
        "\n",
        "        # Compute bias-corrected second raw moment estimate. Inputs: \"s, beta2, t\". Output: \"s_corrected\".\n",
        "        s_corrected[\"dw\" + str(l + 1)] = s[\"dw\" + str(l + 1)] / (1 - np.power(beta2, t))\n",
        "        s_corrected[\"db\" + str(l + 1)] = s[\"db\" + str(l + 1)] / (1 - np.power(beta2, t))\n",
        "        parameters[\"w\" + str(l + 1)] = parameters[\"w\" + str(l + 1)] - learning_rate * v_corrected[\"dw\" + str(l + 1)] / np.sqrt(s[\"dw\" + str(l + 1)] + epsilon)\n",
        "        parameters[\"b\" + str(l + 1)] = parameters[\"b\" + str(l + 1)] - learning_rate * v_corrected[\"db\" + str(l + 1)] / np.sqrt(s[\"db\" + str(l + 1)] + epsilon)\n",
        "\n",
        "    return parameters, v, s"
      ]
    },
    {
      "cell_type": "code",
      "execution_count": null,
      "id": "jv9jED-B3Ie0",
      "metadata": {
        "id": "jv9jED-B3Ie0"
      },
      "outputs": [],
      "source": [
        "def initialize_rms(parameters) :\n",
        "    L = len(parameters) // 2 # number of layers in the neural networks\n",
        "    v = {}\n",
        "    for l in range(L):\n",
        "        v[\"dw\" + str(l + 1)] = np.zeros_like(parameters[\"w\" + str(l + 1)])\n",
        "        v[\"db\" + str(l + 1)] = np.zeros_like(parameters[\"b\" + str(l + 1)])\n",
        "\n",
        "    return v"
      ]
    },
    {
      "cell_type": "code",
      "execution_count": null,
      "id": "HopaQdIM3mvv",
      "metadata": {
        "id": "HopaQdIM3mvv"
      },
      "outputs": [],
      "source": [
        "def update_parameters_with_rms(parameters, grads, v, learning_rate=0.01,\n",
        "                                beta1=0.9, epsilon=1e-8):\n",
        "    L = len(parameters) // 2                 # number of layers in the neural networks\n",
        "    for l in range(L):\n",
        "\n",
        "\n",
        "\n",
        "      v[\"dw\" + str(l + 1)] = beta1 * v[\"dw\" + str(l + 1)] + (1 - beta1) * np.power(grads['dw' + str(l + 1)], 2)\n",
        "      v[\"db\" + str(l + 1)] = beta1 * v[\"db\" + str(l + 1)] + (1 - beta1) * np.power(grads['db' + str(l + 1)], 2)\n",
        "\n",
        "      parameters[\"w\" + str(l + 1)] = parameters[\"w\" + str(l + 1)] - learning_rate * grads['dw' + str(l + 1)] / np.sqrt(v[\"dw\" + str(l + 1)] + epsilon)\n",
        "      parameters[\"b\" + str(l + 1)] = parameters[\"b\" + str(l + 1)] - learning_rate * grads['db' + str(l + 1)] / np.sqrt(v[\"db\" + str(l + 1)] + epsilon)\n",
        "\n",
        "\n",
        "    return parameters,v\n"
      ]
    },
    {
      "cell_type": "code",
      "execution_count": null,
      "id": "pu7MIFHHTbMC",
      "metadata": {
        "id": "pu7MIFHHTbMC"
      },
      "outputs": [],
      "source": [
        "def initialize_adagrad(parameters) :\n",
        "    L = len(parameters) // 2 # number of layers in the neural networks\n",
        "    v = {}\n",
        "    for l in range(L):\n",
        "        v[\"dw\" + str(l + 1)] = np.zeros_like(parameters[\"w\" + str(l + 1)])\n",
        "        v[\"db\" + str(l + 1)] = np.zeros_like(parameters[\"b\" + str(l + 1)])\n",
        "\n",
        "    return v"
      ]
    },
    {
      "cell_type": "code",
      "execution_count": null,
      "id": "VidfjP3QTbPV",
      "metadata": {
        "id": "VidfjP3QTbPV"
      },
      "outputs": [],
      "source": [
        "def update_parameters_with_adagrad(parameters, grads, v, learning_rate=0.01,\n",
        "                                beta1=0.9, epsilon=1e-8):\n",
        "    L = len(parameters) // 2                 # number of layers in the neural networks\n",
        "    for l in range(L):\n",
        "\n",
        "\n",
        "\n",
        "      v[\"dw\" + str(l + 1)] =  v[\"dw\" + str(l + 1)] + np.power(grads['dw' + str(l + 1)], 2)\n",
        "      v[\"db\" + str(l + 1)] = v[\"db\" + str(l + 1)] +  np.power(grads['db' + str(l + 1)], 2)\n",
        "\n",
        "      parameters[\"w\" + str(l + 1)] = parameters[\"w\" + str(l + 1)] - learning_rate * grads['dw' + str(l + 1)] / np.sqrt(v[\"dw\" + str(l + 1)] + epsilon)\n",
        "      parameters[\"b\" + str(l + 1)] = parameters[\"b\" + str(l + 1)] - learning_rate * grads['db' + str(l + 1)] / np.sqrt(v[\"db\" + str(l + 1)] + epsilon)\n",
        "\n",
        "\n",
        "    return parameters,v"
      ]
    },
    {
      "cell_type": "code",
      "execution_count": null,
      "id": "cSB01Tv_Tbv5",
      "metadata": {
        "id": "cSB01Tv_Tbv5"
      },
      "outputs": [],
      "source": []
    },
    {
      "cell_type": "markdown",
      "id": "intelligent-julian",
      "metadata": {
        "id": "intelligent-julian"
      },
      "source": [
        "# Complete Model"
      ]
    },
    {
      "cell_type": "code",
      "execution_count": null,
      "id": "dietary-capacity",
      "metadata": {
        "id": "dietary-capacity"
      },
      "outputs": [],
      "source": [
        "def model(x, y, n_h,optimizer, learning_rate, iterations, beta=0.9,beta1=0.9, beta2=0.999, epsilon=1e-8,):\n",
        "    n_x = x.shape[0]\n",
        "    n_y = y.shape[0]\n",
        "\n",
        "    cost_list = []\n",
        "    t=0\n",
        "    parameters = initialize_parameters(n_x, n_h, n_y)#returns w1,b1,w2,b2\n",
        "    if optimizer == \"momentum\":\n",
        "        v = initialize_velocity(parameters)\n",
        "    elif optimizer == \"adam\":\n",
        "        v, s = initialize_adam(parameters)\n",
        "    elif optimizer == \"rms\":\n",
        "        v=initialize_rms(parameters)\n",
        "    elif optimizer == \"adagrad\":\n",
        "        v=initialize_adagrad(parameters)\n",
        "    for i in range(iterations):\n",
        "\n",
        "        forward_cache = forward_propagation(x, parameters)\n",
        "\n",
        "        cost = cost_function(forward_cache['a2'], y)\n",
        "\n",
        "        gradients = backward_prop(x, y, parameters, forward_cache)\n",
        "\n",
        "        if optimizer == \"momentum\":\n",
        "                parameters, v = update_parameters_with_momentum(parameters, gradients, learning_rate, v, beta)\n",
        "        elif optimizer == \"adam\":\n",
        "                t = t + 1 # Adam counter\n",
        "                parameters, v, s = update_parameters_with_adam(parameters, gradients, v, s,t, learning_rate, beta1, beta2,  epsilon)\n",
        "        elif optimizer == \"rms\":\n",
        "                parameters,v=update_parameters_with_rms(parameters, gradients, v, learning_rate, beta1,  epsilon)\n",
        "        elif optimizer == \"adagrad\":\n",
        "                parameters,v=update_parameters_with_rms(parameters, gradients, v, learning_rate,  epsilon)\n",
        "\n",
        "\n",
        "        cost_list.append(cost)\n",
        "\n",
        "        if(i%(iterations/10) == 0):\n",
        "            print(\"Cost after\", i, \"iterations is :\", cost)\n",
        "\n",
        "    return parameters, cost_list"
      ]
    },
    {
      "cell_type": "code",
      "execution_count": null,
      "id": "integral-credit",
      "metadata": {
        "colab": {
          "base_uri": "https://localhost:8080/"
        },
        "id": "integral-credit",
        "outputId": "b64a0d8f-0147-4e08-9dac-2399e104178c"
      },
      "outputs": [
        {
          "name": "stdout",
          "output_type": "stream",
          "text": [
            "Cost after 0 iterations is : 2.3018820315543107\n",
            "Cost after 10 iterations is : 0.6972971750585054\n",
            "Cost after 20 iterations is : 0.36179515545939256\n",
            "Cost after 30 iterations is : 0.2618211401455697\n",
            "Cost after 40 iterations is : 0.20253910659648486\n",
            "Cost after 50 iterations is : 0.1779211937183356\n",
            "Cost after 60 iterations is : 0.15916703270088328\n",
            "Cost after 70 iterations is : 0.14592397917611782\n",
            "Cost after 80 iterations is : 0.1417404784920282\n",
            "Cost after 90 iterations is : 0.13490419565755066\n"
          ]
        }
      ],
      "source": [
        "iterations = 100\n",
        "n_h = 128\n",
        "learning_rate = 0.3\n",
        "Parameters, Cost_list = model(X_train, Y_train, n_h = n_h,optimizer=\"momentum\", learning_rate = learning_rate, iterations = iterations,beta=0.9)"
      ]
    },
    {
      "cell_type": "code",
      "execution_count": null,
      "id": "italian-graph",
      "metadata": {
        "colab": {
          "base_uri": "https://localhost:8080/",
          "height": 430
        },
        "id": "italian-graph",
        "outputId": "dda4d940-da7d-4675-ef4b-07f68b935017"
      },
      "outputs": [
        {
          "data": {
            "image/png": "[encoded data removed]",
            "text/plain": [
              "<Figure size 432x288 with 1 Axes>"
            ]
          },
          "metadata": {
            "needs_background": "light"
          },
          "output_type": "display_data"
        }
      ],
      "source": [
        "t = np.arange(0, iterations)\n",
        "plt.plot(t, Cost_list)\n",
        "plt.show()"
      ]
    },
    {
      "cell_type": "code",
      "execution_count": null,
      "id": "french-design",
      "metadata": {
        "id": "french-design"
      },
      "outputs": [],
      "source": [
        "def accuracy(inp, labels, parameters):\n",
        "    forward_cache = forward_propagation(inp, parameters)\n",
        "    a_out = forward_cache['a2']   # containes propabilities with shape(10, 1)\n",
        "\n",
        "    a_out = np.argmax(a_out, 0)  # 0 represents row wise\n",
        "\n",
        "    labels = np.argmax(labels, 0)\n",
        "\n",
        "    acc = np.mean(a_out == labels)*100\n",
        "\n",
        "    return acc"
      ]
    },
    {
      "cell_type": "code",
      "execution_count": null,
      "id": "mexican-jamaica",
      "metadata": {
        "colab": {
          "base_uri": "https://localhost:8080/"
        },
        "id": "mexican-jamaica",
        "outputId": "7c83e797-b04b-4152-9d4f-2bd8fe064205"
      },
      "outputs": [
        {
          "name": "stdout",
          "output_type": "stream",
          "text": [
            "Accuracy of Train Dataset 97.8 %\n",
            "Accuracy of Test Dataset 84.57 %\n"
          ]
        }
      ],
      "source": [
        "print(\"Accuracy of Train Dataset\", accuracy(X_train, Y_train, Parameters), \"%\")\n",
        "print(\"Accuracy of Test Dataset\", round(accuracy(X_test, Y_test, Parameters), 2), \"%\")"
      ]
    },
    {
      "cell_type": "code",
      "execution_count": null,
      "id": "finished-superintendent",
      "metadata": {
        "colab": {
          "base_uri": "https://localhost:8080/",
          "height": 447
        },
        "id": "finished-superintendent",
        "outputId": "f40a5fa1-5837-46e4-b455-a67d4ab0a1a4"
      },
      "outputs": [
        {
          "data": {
            "image/png": "[encoded data removed]",
            "text/plain": [
              "<Figure size 432x288 with 1 Axes>"
            ]
          },
          "metadata": {
            "needs_background": "light"
          },
          "output_type": "display_data"
        },
        {
          "name": "stdout",
          "output_type": "stream",
          "text": [
            "it is : 3\n"
          ]
        }
      ],
      "source": [
        "idx = int(random.randrange(0,X_test.shape[1]))\n",
        "plt.imshow(X_test[:, idx].reshape((28,28)),cmap='gray')\n",
        "plt.show()\n",
        "\n",
        "cache = forward_propagation(X_test[:, idx].reshape(X_test[:, idx].shape[0], 1), Parameters)\n",
        "a_pred = cache['a2']\n",
        "a_pred = np.argmax(a_pred, 0)\n",
        "\n",
        "print(\"it is :\", a_pred[0])"
      ]
    },
    {
      "cell_type": "code",
      "execution_count": null,
      "id": "d890bc04",
      "metadata": {
        "id": "d890bc04"
      },
      "outputs": [],
      "source": []
    }
  ],
  "metadata": {
    "colab": {
      "provenance": []
    },
    "kernelspec": {
      "display_name": "Python 3",
      "language": "python",
      "name": "python3"
    },
    "language_info": {
      "codemirror_mode": {
        "name": "ipython",
        "version": 3
      },
      "file_extension": ".py",
      "mimetype": "text/x-python",
      "name": "python",
      "nbconvert_exporter": "python",
      "pygments_lexer": "ipython3",
      "version": "3.9.5"
    }
  },
  "nbformat": 4,
  "nbformat_minor": 5
}