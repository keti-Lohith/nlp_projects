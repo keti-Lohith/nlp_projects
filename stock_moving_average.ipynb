{
  "nbformat": 4,
  "nbformat_minor": 0,
  "metadata": {
    "colab": {
      "provenance": []
    },
    "kernelspec": {
      "name": "python3",
      "display_name": "Python 3"
    },
    "language_info": {
      "name": "python"
    }
  },
  "cells": [
    {
      "cell_type": "code",
      "execution_count": null,
      "metadata": {
        "id": "hKuOTDMIhh9Y"
      },
      "outputs": [],
      "source": [
        "import numpy as np\n",
        "import matplotlib.pyplot as plt"
      ]
    },
    {
      "cell_type": "code",
      "source": [
        "import yfinance as yf"
      ],
      "metadata": {
        "id": "YiW_v9iNhi3E"
      },
      "execution_count": null,
      "outputs": []
    },
    {
      "cell_type": "code",
      "source": [
        "year=2022\n",
        "tgt_stock=\"SPY\"\n",
        "trade_freq=2\n",
        "obs_period=18\n",
        "intial_wealth=1000"
      ],
      "metadata": {
        "id": "MfHRYtnchi5z"
      },
      "execution_count": null,
      "outputs": []
    },
    {
      "cell_type": "code",
      "source": [
        "startdate=str(year)+\"-01-01\"\n",
        "enddate=str(year)+\"-12-31\"\n",
        "data=yf.download(tgt_stock,start=startdate,end=enddate)"
      ],
      "metadata": {
        "colab": {
          "base_uri": "https://localhost:8080/"
        },
        "id": "F-hWNRhchi8s",
        "outputId": "79ec8d14-b5eb-4284-9b2e-e126a2c08c21"
      },
      "execution_count": null,
      "outputs": [
        {
          "output_type": "stream",
          "name": "stderr",
          "text": [
            "\r[*********************100%%**********************]  1 of 1 completed\n"
          ]
        }
      ]
    },
    {
      "cell_type": "code",
      "source": [
        "data"
      ],
      "metadata": {
        "colab": {
          "base_uri": "https://localhost:8080/",
          "height": 455
        },
        "id": "fZ-WdIErhi_p",
        "outputId": "084688eb-9850-45c6-9d21-7de90287e36a"
      },
      "execution_count": null,
      "outputs": [
        {
          "output_type": "execute_result",
          "data": {
            "text/plain": [
              "                  Open        High         Low       Close   Adj Close  \\\n",
              "Date                                                                     \n",
              "2022-01-03  476.299988  477.850006  473.850006  477.709991  461.611725   \n",
              "2022-01-04  479.220001  479.980011  475.579987  477.549988  461.457153   \n",
              "2022-01-05  477.160004  477.980011  468.279999  468.380005  452.596191   \n",
              "2022-01-06  467.890015  470.820007  465.429993  467.940002  452.170990   \n",
              "2022-01-07  467.950012  469.200012  464.649994  466.089996  450.383331   \n",
              "...                ...         ...         ...         ...         ...   \n",
              "2022-12-23  379.649994  383.059998  378.029999  382.910004  376.009125   \n",
              "2022-12-27  382.790009  383.149994  379.649994  381.399994  374.526367   \n",
              "2022-12-28  381.329987  383.390015  376.420013  376.660004  369.871765   \n",
              "2022-12-29  379.630005  384.350006  379.079987  383.440002  376.529572   \n",
              "2022-12-30  380.640015  382.579987  378.429993  382.429993  375.537811   \n",
              "\n",
              "               Volume  \n",
              "Date                   \n",
              "2022-01-03   72668200  \n",
              "2022-01-04   71178700  \n",
              "2022-01-05  104538900  \n",
              "2022-01-06   86858900  \n",
              "2022-01-07   85111600  \n",
              "...               ...  \n",
              "2022-12-23   59857300  \n",
              "2022-12-27   51638200  \n",
              "2022-12-28   70911500  \n",
              "2022-12-29   66970900  \n",
              "2022-12-30   84022200  \n",
              "\n",
              "[251 rows x 6 columns]"
            ],
            "text/html": [
              "\n",
              "  <div id=\"df-e9ea8043-ceea-4e5d-b52e-64e961b6f992\" class=\"colab-df-container\">\n",
              "    <div>\n",
              "<style scoped>\n",
              "    .dataframe tbody tr th:only-of-type {\n",
              "        vertical-align: middle;\n",
              "    }\n",
              "\n",
              "    .dataframe tbody tr th {\n",
              "        vertical-align: top;\n",
              "    }\n",
              "\n",
              "    .dataframe thead th {\n",
              "        text-align: right;\n",
              "    }\n",
              "</style>\n",
              "<table border=\"1\" class=\"dataframe\">\n",
              "  <thead>\n",
              "    <tr style=\"text-align: right;\">\n",
              "      <th></th>\n",
              "      <th>Open</th>\n",
              "      <th>High</th>\n",
              "      <th>Low</th>\n",
              "      <th>Close</th>\n",
              "      <th>Adj Close</th>\n",
              "      <th>Volume</th>\n",
              "    </tr>\n",
              "    <tr>\n",
              "      <th>Date</th>\n",
              "      <th></th>\n",
              "      <th></th>\n",
              "      <th></th>\n",
              "      <th></th>\n",
              "      <th></th>\n",
              "      <th></th>\n",
              "    </tr>\n",
              "  </thead>\n",
              "  <tbody>\n",
              "    <tr>\n",
              "      <th>2022-01-03</th>\n",
              "      <td>476.299988</td>\n",
              "      <td>477.850006</td>\n",
              "      <td>473.850006</td>\n",
              "      <td>477.709991</td>\n",
              "      <td>461.611725</td>\n",
              "      <td>72668200</td>\n",
              "    </tr>\n",
              "    <tr>\n",
              "      <th>2022-01-04</th>\n",
              "      <td>479.220001</td>\n",
              "      <td>479.980011</td>\n",
              "      <td>475.579987</td>\n",
              "      <td>477.549988</td>\n",
              "      <td>461.457153</td>\n",
              "      <td>71178700</td>\n",
              "    </tr>\n",
              "    <tr>\n",
              "      <th>2022-01-05</th>\n",
              "      <td>477.160004</td>\n",
              "      <td>477.980011</td>\n",
              "      <td>468.279999</td>\n",
              "      <td>468.380005</td>\n",
              "      <td>452.596191</td>\n",
              "      <td>104538900</td>\n",
              "    </tr>\n",
              "    <tr>\n",
              "      <th>2022-01-06</th>\n",
              "      <td>467.890015</td>\n",
              "      <td>470.820007</td>\n",
              "      <td>465.429993</td>\n",
              "      <td>467.940002</td>\n",
              "      <td>452.170990</td>\n",
              "      <td>86858900</td>\n",
              "    </tr>\n",
              "    <tr>\n",
              "      <th>2022-01-07</th>\n",
              "      <td>467.950012</td>\n",
              "      <td>469.200012</td>\n",
              "      <td>464.649994</td>\n",
              "      <td>466.089996</td>\n",
              "      <td>450.383331</td>\n",
              "      <td>85111600</td>\n",
              "    </tr>\n",
              "    <tr>\n",
              "      <th>...</th>\n",
              "      <td>...</td>\n",
              "      <td>...</td>\n",
              "      <td>...</td>\n",
              "      <td>...</td>\n",
              "      <td>...</td>\n",
              "      <td>...</td>\n",
              "    </tr>\n",
              "    <tr>\n",
              "      <th>2022-12-23</th>\n",
              "      <td>379.649994</td>\n",
              "      <td>383.059998</td>\n",
              "      <td>378.029999</td>\n",
              "      <td>382.910004</td>\n",
              "      <td>376.009125</td>\n",
              "      <td>59857300</td>\n",
              "    </tr>\n",
              "    <tr>\n",
              "      <th>2022-12-27</th>\n",
              "      <td>382.790009</td>\n",
              "      <td>383.149994</td>\n",
              "      <td>379.649994</td>\n",
              "      <td>381.399994</td>\n",
              "      <td>374.526367</td>\n",
              "      <td>51638200</td>\n",
              "    </tr>\n",
              "    <tr>\n",
              "      <th>2022-12-28</th>\n",
              "      <td>381.329987</td>\n",
              "      <td>383.390015</td>\n",
              "      <td>376.420013</td>\n",
              "      <td>376.660004</td>\n",
              "      <td>369.871765</td>\n",
              "      <td>70911500</td>\n",
              "    </tr>\n",
              "    <tr>\n",
              "      <th>2022-12-29</th>\n",
              "      <td>379.630005</td>\n",
              "      <td>384.350006</td>\n",
              "      <td>379.079987</td>\n",
              "      <td>383.440002</td>\n",
              "      <td>376.529572</td>\n",
              "      <td>66970900</td>\n",
              "    </tr>\n",
              "    <tr>\n",
              "      <th>2022-12-30</th>\n",
              "      <td>380.640015</td>\n",
              "      <td>382.579987</td>\n",
              "      <td>378.429993</td>\n",
              "      <td>382.429993</td>\n",
              "      <td>375.537811</td>\n",
              "      <td>84022200</td>\n",
              "    </tr>\n",
              "  </tbody>\n",
              "</table>\n",
              "<p>251 rows × 6 columns</p>\n",
              "</div>\n",
              "    <div class=\"colab-df-buttons\">\n",
              "\n",
              "  <div class=\"colab-df-container\">\n",
              "    <button class=\"colab-df-convert\" onclick=\"convertToInteractive('df-e9ea8043-ceea-4e5d-b52e-64e961b6f992')\"\n",
              "            title=\"Convert this dataframe to an interactive table.\"\n",
              "            style=\"display:none;\">\n",
              "\n",
              "  <svg xmlns=\"http://www.w3.org/2000/svg\" height=\"24px\" viewBox=\"0 -960 960 960\">\n",
              "    <path d=\"M120-120v-720h720v720H120Zm60-500h600v-160H180v160Zm220 220h160v-160H400v160Zm0 220h160v-160H400v160ZM180-400h160v-160H180v160Zm440 0h160v-160H620v160ZM180-180h160v-160H180v160Zm440 0h160v-160H620v160Z\"/>\n",
              "  </svg>\n",
              "    </button>\n",
              "\n",
              "  <style>\n",
              "    .colab-df-container {\n",
              "      display:flex;\n",
              "      gap: 12px;\n",
              "    }\n",
              "\n",
              "    .colab-df-convert {\n",
              "      background-color: #E8F0FE;\n",
              "      border: none;\n",
              "      border-radius: 50%;\n",
              "      cursor: pointer;\n",
              "      display: none;\n",
              "      fill: #1967D2;\n",
              "      height: 32px;\n",
              "      padding: 0 0 0 0;\n",
              "      width: 32px;\n",
              "    }\n",
              "\n",
              "    .colab-df-convert:hover {\n",
              "      background-color: #E2EBFA;\n",
              "      box-shadow: 0px 1px 2px rgba(60, 64, 67, 0.3), 0px 1px 3px 1px rgba(60, 64, 67, 0.15);\n",
              "      fill: #174EA6;\n",
              "    }\n",
              "\n",
              "    .colab-df-buttons div {\n",
              "      margin-bottom: 4px;\n",
              "    }\n",
              "\n",
              "    [theme=dark] .colab-df-convert {\n",
              "      background-color: #3B4455;\n",
              "      fill: #D2E3FC;\n",
              "    }\n",
              "\n",
              "    [theme=dark] .colab-df-convert:hover {\n",
              "      background-color: #434B5C;\n",
              "      box-shadow: 0px 1px 3px 1px rgba(0, 0, 0, 0.15);\n",
              "      filter: drop-shadow(0px 1px 2px rgba(0, 0, 0, 0.3));\n",
              "      fill: #FFFFFF;\n",
              "    }\n",
              "  </style>\n",
              "\n",
              "    <script>\n",
              "      const buttonEl =\n",
              "        document.querySelector('#df-e9ea8043-ceea-4e5d-b52e-64e961b6f992 button.colab-df-convert');\n",
              "      buttonEl.style.display =\n",
              "        google.colab.kernel.accessAllowed ? 'block' : 'none';\n",
              "\n",
              "      async function convertToInteractive(key) {\n",
              "        const element = document.querySelector('#df-e9ea8043-ceea-4e5d-b52e-64e961b6f992');\n",
              "        const dataTable =\n",
              "          await google.colab.kernel.invokeFunction('convertToInteractive',\n",
              "                                                    [key], {});\n",
              "        if (!dataTable) return;\n",
              "\n",
              "        const docLinkHtml = 'Like what you see? Visit the ' +\n",
              "          '<a target=\"_blank\" href=https://colab.research.google.com/notebooks/data_table.ipynb>data table notebook</a>'\n",
              "          + ' to learn more about interactive tables.';\n",
              "        element.innerHTML = '';\n",
              "        dataTable['output_type'] = 'display_data';\n",
              "        await google.colab.output.renderOutput(dataTable, element);\n",
              "        const docLink = document.createElement('div');\n",
              "        docLink.innerHTML = docLinkHtml;\n",
              "        element.appendChild(docLink);\n",
              "      }\n",
              "    </script>\n",
              "  </div>\n",
              "\n",
              "\n",
              "<div id=\"df-89e08f2c-7fa8-4c1c-af21-216e99b98caa\">\n",
              "  <button class=\"colab-df-quickchart\" onclick=\"quickchart('df-89e08f2c-7fa8-4c1c-af21-216e99b98caa')\"\n",
              "            title=\"Suggest charts\"\n",
              "            style=\"display:none;\">\n",
              "\n",
              "<svg xmlns=\"http://www.w3.org/2000/svg\" height=\"24px\"viewBox=\"0 0 24 24\"\n",
              "     width=\"24px\">\n",
              "    <g>\n",
              "        <path d=\"M19 3H5c-1.1 0-2 .9-2 2v14c0 1.1.9 2 2 2h14c1.1 0 2-.9 2-2V5c0-1.1-.9-2-2-2zM9 17H7v-7h2v7zm4 0h-2V7h2v10zm4 0h-2v-4h2v4z\"/>\n",
              "    </g>\n",
              "</svg>\n",
              "  </button>\n",
              "\n",
              "<style>\n",
              "  .colab-df-quickchart {\n",
              "      --bg-color: #E8F0FE;\n",
              "      --fill-color: #1967D2;\n",
              "      --hover-bg-color: #E2EBFA;\n",
              "      --hover-fill-color: #174EA6;\n",
              "      --disabled-fill-color: #AAA;\n",
              "      --disabled-bg-color: #DDD;\n",
              "  }\n",
              "\n",
              "  [theme=dark] .colab-df-quickchart {\n",
              "      --bg-color: #3B4455;\n",
              "      --fill-color: #D2E3FC;\n",
              "      --hover-bg-color: #434B5C;\n",
              "      --hover-fill-color: #FFFFFF;\n",
              "      --disabled-bg-color: #3B4455;\n",
              "      --disabled-fill-color: #666;\n",
              "  }\n",
              "\n",
              "  .colab-df-quickchart {\n",
              "    background-color: var(--bg-color);\n",
              "    border: none;\n",
              "    border-radius: 50%;\n",
              "    cursor: pointer;\n",
              "    display: none;\n",
              "    fill: var(--fill-color);\n",
              "    height: 32px;\n",
              "    padding: 0;\n",
              "    width: 32px;\n",
              "  }\n",
              "\n",
              "  .colab-df-quickchart:hover {\n",
              "    background-color: var(--hover-bg-color);\n",
              "    box-shadow: 0 1px 2px rgba(60, 64, 67, 0.3), 0 1px 3px 1px rgba(60, 64, 67, 0.15);\n",
              "    fill: var(--button-hover-fill-color);\n",
              "  }\n",
              "\n",
              "  .colab-df-quickchart-complete:disabled,\n",
              "  .colab-df-quickchart-complete:disabled:hover {\n",
              "    background-color: var(--disabled-bg-color);\n",
              "    fill: var(--disabled-fill-color);\n",
              "    box-shadow: none;\n",
              "  }\n",
              "\n",
              "  .colab-df-spinner {\n",
              "    border: 2px solid var(--fill-color);\n",
              "    border-color: transparent;\n",
              "    border-bottom-color: var(--fill-color);\n",
              "    animation:\n",
              "      spin 1s steps(1) infinite;\n",
              "  }\n",
              "\n",
              "  @keyframes spin {\n",
              "    0% {\n",
              "      border-color: transparent;\n",
              "      border-bottom-color: var(--fill-color);\n",
              "      border-left-color: var(--fill-color);\n",
              "    }\n",
              "    20% {\n",
              "      border-color: transparent;\n",
              "      border-left-color: var(--fill-color);\n",
              "      border-top-color: var(--fill-color);\n",
              "    }\n",
              "    30% {\n",
              "      border-color: transparent;\n",
              "      border-left-color: var(--fill-color);\n",
              "      border-top-color: var(--fill-color);\n",
              "      border-right-color: var(--fill-color);\n",
              "    }\n",
              "    40% {\n",
              "      border-color: transparent;\n",
              "      border-right-color: var(--fill-color);\n",
              "      border-top-color: var(--fill-color);\n",
              "    }\n",
              "    60% {\n",
              "      border-color: transparent;\n",
              "      border-right-color: var(--fill-color);\n",
              "    }\n",
              "    80% {\n",
              "      border-color: transparent;\n",
              "      border-right-color: var(--fill-color);\n",
              "      border-bottom-color: var(--fill-color);\n",
              "    }\n",
              "    90% {\n",
              "      border-color: transparent;\n",
              "      border-bottom-color: var(--fill-color);\n",
              "    }\n",
              "  }\n",
              "</style>\n",
              "\n",
              "  <script>\n",
              "    async function quickchart(key) {\n",
              "      const quickchartButtonEl =\n",
              "        document.querySelector('#' + key + ' button');\n",
              "      quickchartButtonEl.disabled = true;  // To prevent multiple clicks.\n",
              "      quickchartButtonEl.classList.add('colab-df-spinner');\n",
              "      try {\n",
              "        const charts = await google.colab.kernel.invokeFunction(\n",
              "            'suggestCharts', [key], {});\n",
              "      } catch (error) {\n",
              "        console.error('Error during call to suggestCharts:', error);\n",
              "      }\n",
              "      quickchartButtonEl.classList.remove('colab-df-spinner');\n",
              "      quickchartButtonEl.classList.add('colab-df-quickchart-complete');\n",
              "    }\n",
              "    (() => {\n",
              "      let quickchartButtonEl =\n",
              "        document.querySelector('#df-89e08f2c-7fa8-4c1c-af21-216e99b98caa button');\n",
              "      quickchartButtonEl.style.display =\n",
              "        google.colab.kernel.accessAllowed ? 'block' : 'none';\n",
              "    })();\n",
              "  </script>\n",
              "</div>\n",
              "\n",
              "  <div id=\"id_892e1da1-b3e1-4189-8b34-9c0e3198263e\">\n",
              "    <style>\n",
              "      .colab-df-generate {\n",
              "        background-color: #E8F0FE;\n",
              "        border: none;\n",
              "        border-radius: 50%;\n",
              "        cursor: pointer;\n",
              "        display: none;\n",
              "        fill: #1967D2;\n",
              "        height: 32px;\n",
              "        padding: 0 0 0 0;\n",
              "        width: 32px;\n",
              "      }\n",
              "\n",
              "      .colab-df-generate:hover {\n",
              "        background-color: #E2EBFA;\n",
              "        box-shadow: 0px 1px 2px rgba(60, 64, 67, 0.3), 0px 1px 3px 1px rgba(60, 64, 67, 0.15);\n",
              "        fill: #174EA6;\n",
              "      }\n",
              "\n",
              "      [theme=dark] .colab-df-generate {\n",
              "        background-color: #3B4455;\n",
              "        fill: #D2E3FC;\n",
              "      }\n",
              "\n",
              "      [theme=dark] .colab-df-generate:hover {\n",
              "        background-color: #434B5C;\n",
              "        box-shadow: 0px 1px 3px 1px rgba(0, 0, 0, 0.15);\n",
              "        filter: drop-shadow(0px 1px 2px rgba(0, 0, 0, 0.3));\n",
              "        fill: #FFFFFF;\n",
              "      }\n",
              "    </style>\n",
              "    <button class=\"colab-df-generate\" onclick=\"generateWithVariable('data')\"\n",
              "            title=\"Generate code using this dataframe.\"\n",
              "            style=\"display:none;\">\n",
              "\n",
              "  <svg xmlns=\"http://www.w3.org/2000/svg\" height=\"24px\"viewBox=\"0 0 24 24\"\n",
              "       width=\"24px\">\n",
              "    <path d=\"M7,19H8.4L18.45,9,17,7.55,7,17.6ZM5,21V16.75L18.45,3.32a2,2,0,0,1,2.83,0l1.4,1.43a1.91,1.91,0,0,1,.58,1.4,1.91,1.91,0,0,1-.58,1.4L9.25,21ZM18.45,9,17,7.55Zm-12,3A5.31,5.31,0,0,0,4.9,8.1,5.31,5.31,0,0,0,1,6.5,5.31,5.31,0,0,0,4.9,4.9,5.31,5.31,0,0,0,6.5,1,5.31,5.31,0,0,0,8.1,4.9,5.31,5.31,0,0,0,12,6.5,5.46,5.46,0,0,0,6.5,12Z\"/>\n",
              "  </svg>\n",
              "    </button>\n",
              "    <script>\n",
              "      (() => {\n",
              "      const buttonEl =\n",
              "        document.querySelector('#id_892e1da1-b3e1-4189-8b34-9c0e3198263e button.colab-df-generate');\n",
              "      buttonEl.style.display =\n",
              "        google.colab.kernel.accessAllowed ? 'block' : 'none';\n",
              "\n",
              "      buttonEl.onclick = () => {\n",
              "        google.colab.notebook.generateWithVariable('data');\n",
              "      }\n",
              "      })();\n",
              "    </script>\n",
              "  </div>\n",
              "\n",
              "    </div>\n",
              "  </div>\n"
            ],
            "application/vnd.google.colaboratory.intrinsic+json": {
              "type": "dataframe",
              "variable_name": "data",
              "summary": "{\n  \"name\": \"data\",\n  \"rows\": 251,\n  \"fields\": [\n    {\n      \"column\": \"Date\",\n      \"properties\": {\n        \"dtype\": \"date\",\n        \"min\": \"2022-01-03 00:00:00\",\n        \"max\": \"2022-12-30 00:00:00\",\n        \"num_unique_values\": 251,\n        \"samples\": [\n          \"2022-08-16 00:00:00\",\n          \"2022-01-11 00:00:00\",\n          \"2022-08-29 00:00:00\"\n        ],\n        \"semantic_type\": \"\",\n        \"description\": \"\"\n      }\n    },\n    {\n      \"column\": \"Open\",\n      \"properties\": {\n        \"dtype\": \"number\",\n        \"std\": 29.228011663804804,\n        \"min\": 349.2099914550781,\n        \"max\": 479.2200012207031,\n        \"num_unique_values\": 248,\n        \"samples\": [\n          437.3299865722656,\n          465.2300109863281,\n          368.0199890136719\n        ],\n        \"semantic_type\": \"\",\n        \"description\": \"\"\n      }\n    },\n    {\n      \"column\": \"High\",\n      \"properties\": {\n        \"dtype\": \"number\",\n        \"std\": 28.953085562411975,\n        \"min\": 359.82000732421875,\n        \"max\": 479.9800109863281,\n        \"num_unique_values\": 245,\n        \"samples\": [\n          450.989990234375,\n          469.8500061035156,\n          429.5\n        ],\n        \"semantic_type\": \"\",\n        \"description\": \"\"\n      }\n    },\n    {\n      \"column\": \"Low\",\n      \"properties\": {\n        \"dtype\": \"number\",\n        \"std\": 29.06546136676135,\n        \"min\": 348.1099853515625,\n        \"max\": 475.5799865722656,\n        \"num_unique_values\": 249,\n        \"samples\": [\n          393.2099914550781,\n          462.04998779296875,\n          386.9599914550781\n        ],\n        \"semantic_type\": \"\",\n        \"description\": \"\"\n      }\n    },\n    {\n      \"column\": \"Close\",\n      \"properties\": {\n        \"dtype\": \"number\",\n        \"std\": 29.060546187755747,\n        \"min\": 356.55999755859375,\n        \"max\": 477.7099914550781,\n        \"num_unique_values\": 246,\n        \"samples\": [\n          429.57000732421875,\n          469.75,\n          363.3800048828125\n        ],\n        \"semantic_type\": \"\",\n        \"description\": \"\"\n      }\n    },\n    {\n      \"column\": \"Adj Close\",\n      \"properties\": {\n        \"dtype\": \"number\",\n        \"std\": 26.83161660692917,\n        \"min\": 348.5335388183594,\n        \"max\": 461.6117248535156,\n        \"num_unique_values\": 248,\n        \"samples\": [\n          415.0940246582031,\n          453.9200439453125,\n          355.2000427246094\n        ],\n        \"semantic_type\": \"\",\n        \"description\": \"\"\n      }\n    },\n    {\n      \"column\": \"Volume\",\n      \"properties\": {\n        \"dtype\": \"number\",\n        \"std\": 31888587,\n        \"min\": 30545400,\n        \"max\": 251783900,\n        \"num_unique_values\": 251,\n        \"samples\": [\n          59289000,\n          74303100,\n          65370800\n        ],\n        \"semantic_type\": \"\",\n        \"description\": \"\"\n      }\n    }\n  ]\n}"
            }
          },
          "metadata": {},
          "execution_count": 6
        }
      ]
    },
    {
      "cell_type": "code",
      "source": [
        "dates=data.index\n",
        "closing_prices=data['Close'].values"
      ],
      "metadata": {
        "id": "EoA0QyIqhjCY"
      },
      "execution_count": null,
      "outputs": []
    },
    {
      "cell_type": "code",
      "source": [
        "dates"
      ],
      "metadata": {
        "colab": {
          "base_uri": "https://localhost:8080/"
        },
        "id": "cCpR1AH9hjFT",
        "outputId": "eb0ef8a9-d467-4855-91be-40847c815bbd"
      },
      "execution_count": null,
      "outputs": [
        {
          "output_type": "execute_result",
          "data": {
            "text/plain": [
              "DatetimeIndex(['2022-01-03', '2022-01-04', '2022-01-05', '2022-01-06',\n",
              "               '2022-01-07', '2022-01-10', '2022-01-11', '2022-01-12',\n",
              "               '2022-01-13', '2022-01-14',\n",
              "               ...\n",
              "               '2022-12-16', '2022-12-19', '2022-12-20', '2022-12-21',\n",
              "               '2022-12-22', '2022-12-23', '2022-12-27', '2022-12-28',\n",
              "               '2022-12-29', '2022-12-30'],\n",
              "              dtype='datetime64[ns]', name='Date', length=251, freq=None)"
            ]
          },
          "metadata": {},
          "execution_count": 8
        }
      ]
    },
    {
      "cell_type": "code",
      "source": [
        "moving_avg=np.convolve(closing_prices,np.ones(obs_period)/obs_period,mode='valid')"
      ],
      "metadata": {
        "id": "7jIO2AOMhjIM"
      },
      "execution_count": null,
      "outputs": []
    },
    {
      "cell_type": "code",
      "source": [
        "moving_avg"
      ],
      "metadata": {
        "colab": {
          "base_uri": "https://localhost:8080/"
        },
        "id": "TdO-7PyAkDDz",
        "outputId": "5d2f9f3f-7d30-4910-9265-8b6edc9029dd"
      },
      "execution_count": null,
      "outputs": [
        {
          "output_type": "execute_result",
          "data": {
            "text/plain": [
              "array([456.94999864, 454.96333313, 453.42777846, 452.57055664,\n",
              "       451.98222351, 450.89944628, 449.96555752, 448.71611362,\n",
              "       447.60055881, 447.21222602, 446.3566708 , 445.46611532,\n",
              "       444.75889248, 444.72278171, 445.20167033, 445.04722595,\n",
              "       445.03389316, 444.82222663, 444.30611674, 443.54778205,\n",
              "       442.87222629, 441.96555922, 440.44500393, 439.96111552,\n",
              "       439.2394477 , 438.40111457, 436.65055847, 434.35666911,\n",
              "       433.13944668, 432.30722555, 431.25444878, 429.63778178,\n",
              "       428.50278219, 428.42278205, 428.80278185, 429.63333639,\n",
              "       430.88000319, 432.06278144, 432.39889187, 433.16889106,\n",
              "       434.43055725, 435.43166775, 436.8672231 , 438.34111192,\n",
              "       440.13055759, 442.16778056, 443.80055745, 445.22000122,\n",
              "       446.68944465, 448.45444404, 449.64333259, 449.88222249,\n",
              "       449.72777812, 449.66055637, 449.29388936, 448.64833408,\n",
              "       448.71722412, 448.39611308, 447.58333503, 445.92389086,\n",
              "       444.08833652, 441.72166951, 439.81222365, 438.41722276,\n",
              "       435.92833455, 433.89777968, 432.22333611, 431.12833659,\n",
              "       429.25278049, 427.66500176, 425.43611315, 422.97944641,\n",
              "       420.47722371, 417.94222344, 415.53555637, 413.05666775,\n",
              "       411.40444607, 409.50555589, 407.33611043, 405.86555481,\n",
              "       404.73500061, 402.85055712, 402.03777907, 401.52833388,\n",
              "       401.46611192, 400.57000054, 400.33555603, 400.67166816,\n",
              "       401.35889011, 402.06444634, 403.34166802, 404.39055718,\n",
              "       404.3750017 , 403.80333455, 401.95222304, 400.95277913,\n",
              "       400.38278029, 399.10611301, 397.38055589, 396.33499993,\n",
              "       395.05833435, 393.54444546, 392.14555528, 390.79333327,\n",
              "       389.18555535, 387.127221  , 385.27777608, 383.58055284,\n",
              "       381.70388624, 380.14999729, 379.45832994, 379.39555359,\n",
              "       379.90833198, 380.29499817, 380.27444119, 380.89999729,\n",
              "       381.97055393, 382.35277642, 383.34610833, 384.27444119,\n",
              "       384.7583313 , 385.11944241, 385.94833204, 386.53444417,\n",
              "       387.85611131, 389.23555671, 390.90388997, 392.43277825,\n",
              "       393.4922231 , 394.92444526, 396.58777873, 398.40111287,\n",
              "       400.29889086, 402.15666877, 404.09333462, 406.20666673,\n",
              "       408.14166768, 410.03555637, 411.7527788 , 413.50611199,\n",
              "       415.30166796, 417.03777907, 417.72166782, 418.07055664,\n",
              "       418.16389126, 418.64944797, 418.49667019, 417.84000312,\n",
              "       416.95333523, 415.93722365, 415.01666938, 413.95500183,\n",
              "       412.33111403, 411.09722561, 409.6127811 , 408.37611559,\n",
              "       407.33555942, 405.47167121, 403.62222629, 401.84333632,\n",
              "       400.29944695, 398.97722371, 397.33388943, 394.9938897 ,\n",
              "       393.26666768, 391.34000142, 389.45666843, 387.69000244,\n",
              "       386.25166829, 384.6155582 , 382.7500017 , 381.01833428,\n",
              "       379.77333408, 378.13388909, 376.03555637, 374.35166762,\n",
              "       372.43055556, 370.6316664 , 369.02055528, 367.76611159,\n",
              "       366.29611206, 365.70888943, 365.53722297, 365.56777785,\n",
              "       365.6288893 , 366.23500061, 366.69833374, 367.92777846,\n",
              "       369.30777825, 370.05055745, 370.66444567, 371.17111206,\n",
              "       371.79999966, 372.47111003, 373.08166673, 374.1155565 ,\n",
              "       375.41500176, 376.30555725, 377.22222392, 378.77055698,\n",
              "       380.29166836, 381.77055698, 383.60833401, 384.78388977,\n",
              "       385.63777839, 386.2549998 , 386.95333354, 388.05999925,\n",
              "       388.80444505, 389.70000034, 390.33277893, 391.46389092,\n",
              "       393.5011122 , 395.22500102, 396.72277832, 397.70000034,\n",
              "       398.79444377, 398.70944383, 398.58333164, 398.48110962,\n",
              "       398.5066664 , 398.86888801, 399.15555488, 398.79999966,\n",
              "       398.17111037, 397.06666565, 395.85110982, 394.95666673,\n",
              "       394.11277771, 393.42833286, 391.96833293, 390.26166619,\n",
              "       388.95777724, 388.0044437 ])"
            ]
          },
          "metadata": {},
          "execution_count": 10
        }
      ]
    },
    {
      "cell_type": "code",
      "source": [
        "plt.plot(dates[obs_period-1:],moving_avg)\n",
        "plt.xlabel('dates')\n",
        "plt.ylabel('moving average')\n",
        "plt.title('moving average of'+tgt_stock+'in'+str(year))\n",
        "plt.show()"
      ],
      "metadata": {
        "colab": {
          "base_uri": "https://localhost:8080/",
          "height": 472
        },
        "id": "jPIVI8ymkDGw",
        "outputId": "44a471b8-6c1d-43d8-9624-50f6ed1981e1"
      },
      "execution_count": null,
      "outputs": [
        {
          "output_type": "display_data",
          "data": {
            "text/plain": [
              "<Figure size 640x480 with 1 Axes>"
            ],
            "image/png": "[encoded data removed]"
          },
          "metadata": {}
        }
      ]
    },
    {
      "cell_type": "code",
      "source": [
        "last_trade_dates=[]\n",
        "current_month=dates[0].month\n",
        "for i in range(len(dates)):\n",
        "  if dates[i].month !=current_month:\n",
        "    last_trade_dates.append(dates[i-1])\n",
        "    current_month=dates[i].month\n",
        "\n",
        "last_trade_dates.append(dates[-1])"
      ],
      "metadata": {
        "id": "2SM3i0CtkDJu"
      },
      "execution_count": null,
      "outputs": []
    },
    {
      "cell_type": "code",
      "source": [
        "last_trade_dates"
      ],
      "metadata": {
        "colab": {
          "base_uri": "https://localhost:8080/"
        },
        "id": "aG4z-nXBkDM3",
        "outputId": "7572e091-e7e0-4af1-8c17-a29a1a61fa32"
      },
      "execution_count": null,
      "outputs": [
        {
          "output_type": "execute_result",
          "data": {
            "text/plain": [
              "[Timestamp('2022-01-31 00:00:00'),\n",
              " Timestamp('2022-02-28 00:00:00'),\n",
              " Timestamp('2022-03-31 00:00:00'),\n",
              " Timestamp('2022-04-29 00:00:00'),\n",
              " Timestamp('2022-05-31 00:00:00'),\n",
              " Timestamp('2022-06-30 00:00:00'),\n",
              " Timestamp('2022-07-29 00:00:00'),\n",
              " Timestamp('2022-08-31 00:00:00'),\n",
              " Timestamp('2022-09-30 00:00:00'),\n",
              " Timestamp('2022-10-31 00:00:00'),\n",
              " Timestamp('2022-11-30 00:00:00'),\n",
              " Timestamp('2022-12-30 00:00:00')]"
            ]
          },
          "metadata": {},
          "execution_count": 13
        }
      ]
    },
    {
      "cell_type": "code",
      "source": [
        "mov_avg_date=[]\n",
        "for date in last_trade_dates:\n",
        "  idx=dates.get_loc(date)\n",
        "  mv_avg=moving_avg[idx-obs_period+1]\n",
        "  close_val=data.loc[date]['Close']\n",
        "  temp_list=[date,mv_avg,close_val]\n",
        "  mov_avg_date.append(temp_list)"
      ],
      "metadata": {
        "id": "vGO803F5kDQm"
      },
      "execution_count": null,
      "outputs": []
    },
    {
      "cell_type": "code",
      "source": [
        "mov_avg_date=np.array(mov_avg_date)\n",
        "mov_avg_date"
      ],
      "metadata": {
        "colab": {
          "base_uri": "https://localhost:8080/"
        },
        "id": "73abAwAWhjLI",
        "outputId": "33849c7f-963d-4b96-e3f6-d3a888d47ba2"
      },
      "execution_count": null,
      "outputs": [
        {
          "output_type": "execute_result",
          "data": {
            "text/plain": [
              "array([[Timestamp('2022-01-31 00:00:00'), 453.4277784559461,\n",
              "        449.9100036621094],\n",
              "       [Timestamp('2022-02-28 00:00:00'), 441.9655592176649,\n",
              "        436.6300048828125],\n",
              "       [Timestamp('2022-03-31 00:00:00'), 440.13055759006073,\n",
              "        451.6400146484375],\n",
              "       [Timestamp('2022-04-29 00:00:00'), 435.92833455403644, 412.0],\n",
              "       [Timestamp('2022-05-31 00:00:00'), 400.57000054253473,\n",
              "        412.92999267578125],\n",
              "       [Timestamp('2022-06-30 00:00:00'), 385.2777760823567, 377.25],\n",
              "       [Timestamp('2022-07-29 00:00:00'), 390.90388997395826,\n",
              "        411.989990234375],\n",
              "       [Timestamp('2022-08-31 00:00:00'), 415.9372236463758,\n",
              "        395.17999267578125],\n",
              "       [Timestamp('2022-09-30 00:00:00'), 382.750001695421,\n",
              "        357.17999267578125],\n",
              "       [Timestamp('2022-10-31 00:00:00'), 371.1711120605469,\n",
              "        386.2099914550781],\n",
              "       [Timestamp('2022-11-30 00:00:00'), 393.50111219618054,\n",
              "        407.67999267578125],\n",
              "       [Timestamp('2022-12-30 00:00:00'), 388.00444369845917,\n",
              "        382.42999267578125]], dtype=object)"
            ]
          },
          "metadata": {},
          "execution_count": 15
        }
      ]
    },
    {
      "cell_type": "code",
      "source": [
        "mov_avg_date=np.insert(mov_avg_date,3,'Hold',axis=1)\n",
        "for i in range(len(mov_avg_date)):\n",
        "  if mov_avg_date[i][1]>mov_avg_date[i][2]:\n",
        "    mov_avg_date[i][3]='Buy'\n",
        "  else:\n",
        "    mov_avg_date[i][3]='Sell'\n",
        "\n",
        "print(mov_avg_date)"
      ],
      "metadata": {
        "colab": {
          "base_uri": "https://localhost:8080/"
        },
        "id": "-50JEY6QhjOr",
        "outputId": "fcf96574-d254-41e8-deb3-6869da06d9d3"
      },
      "execution_count": null,
      "outputs": [
        {
          "output_type": "stream",
          "name": "stdout",
          "text": [
            "[[Timestamp('2022-01-31 00:00:00') 453.4277784559461 449.9100036621094\n",
            "  'Buy']\n",
            " [Timestamp('2022-02-28 00:00:00') 441.9655592176649 436.6300048828125\n",
            "  'Buy']\n",
            " [Timestamp('2022-03-31 00:00:00') 440.13055759006073 451.6400146484375\n",
            "  'Sell']\n",
            " [Timestamp('2022-04-29 00:00:00') 435.92833455403644 412.0 'Buy']\n",
            " [Timestamp('2022-05-31 00:00:00') 400.57000054253473 412.92999267578125\n",
            "  'Sell']\n",
            " [Timestamp('2022-06-30 00:00:00') 385.2777760823567 377.25 'Buy']\n",
            " [Timestamp('2022-07-29 00:00:00') 390.90388997395826 411.989990234375\n",
            "  'Sell']\n",
            " [Timestamp('2022-08-31 00:00:00') 415.9372236463758 395.17999267578125\n",
            "  'Buy']\n",
            " [Timestamp('2022-09-30 00:00:00') 382.750001695421 357.17999267578125\n",
            "  'Buy']\n",
            " [Timestamp('2022-10-31 00:00:00') 371.1711120605469 386.2099914550781\n",
            "  'Sell']\n",
            " [Timestamp('2022-11-30 00:00:00') 393.50111219618054 407.67999267578125\n",
            "  'Sell']\n",
            " [Timestamp('2022-12-30 00:00:00') 388.00444369845917 382.42999267578125\n",
            "  'Buy']]\n"
          ]
        }
      ]
    },
    {
      "cell_type": "code",
      "source": [
        "buy_dates=[]\n",
        "for row in mov_avg_date:\n",
        "  if row[3]=='Buy':\n",
        "    buy_dates.append(row)\n",
        "buy_dates=np.array(buy_dates)\n",
        "buy_dates"
      ],
      "metadata": {
        "colab": {
          "base_uri": "https://localhost:8080/"
        },
        "id": "zJvp7wJEp8se",
        "outputId": "23f067fc-58f6-441f-8109-0509806b88c9"
      },
      "execution_count": null,
      "outputs": [
        {
          "output_type": "execute_result",
          "data": {
            "text/plain": [
              "array([[Timestamp('2022-01-31 00:00:00'), 453.4277784559461,\n",
              "        449.9100036621094, 'Buy'],\n",
              "       [Timestamp('2022-02-28 00:00:00'), 441.9655592176649,\n",
              "        436.6300048828125, 'Buy'],\n",
              "       [Timestamp('2022-04-29 00:00:00'), 435.92833455403644, 412.0,\n",
              "        'Buy'],\n",
              "       [Timestamp('2022-06-30 00:00:00'), 385.2777760823567, 377.25,\n",
              "        'Buy'],\n",
              "       [Timestamp('2022-08-31 00:00:00'), 415.9372236463758,\n",
              "        395.17999267578125, 'Buy'],\n",
              "       [Timestamp('2022-09-30 00:00:00'), 382.750001695421,\n",
              "        357.17999267578125, 'Buy'],\n",
              "       [Timestamp('2022-12-30 00:00:00'), 388.00444369845917,\n",
              "        382.42999267578125, 'Buy']], dtype=object)"
            ]
          },
          "metadata": {},
          "execution_count": 17
        }
      ]
    },
    {
      "cell_type": "code",
      "source": [
        "sell_dates=[]\n",
        "for row in mov_avg_date:\n",
        "  if row[3]=='Sell':\n",
        "    sell_dates.append(row)\n",
        "sell_dates=np.array(sell_dates)\n",
        "sell_dates"
      ],
      "metadata": {
        "colab": {
          "base_uri": "https://localhost:8080/"
        },
        "id": "j9hdhccup8vP",
        "outputId": "1643493e-bee2-4274-ae15-6a315c47f7c3"
      },
      "execution_count": null,
      "outputs": [
        {
          "output_type": "execute_result",
          "data": {
            "text/plain": [
              "array([[Timestamp('2022-03-31 00:00:00'), 440.13055759006073,\n",
              "        451.6400146484375, 'Sell'],\n",
              "       [Timestamp('2022-05-31 00:00:00'), 400.57000054253473,\n",
              "        412.92999267578125, 'Sell'],\n",
              "       [Timestamp('2022-07-29 00:00:00'), 390.90388997395826,\n",
              "        411.989990234375, 'Sell'],\n",
              "       [Timestamp('2022-10-31 00:00:00'), 371.1711120605469,\n",
              "        386.2099914550781, 'Sell'],\n",
              "       [Timestamp('2022-11-30 00:00:00'), 393.50111219618054,\n",
              "        407.67999267578125, 'Sell']], dtype=object)"
            ]
          },
          "metadata": {},
          "execution_count": 20
        }
      ]
    },
    {
      "cell_type": "code",
      "source": [
        "fig,ax=plt.subplots()\n",
        "ax.plot(dates,closing_prices,color='blue',label='Closing rates')\n",
        "ax.plot(dates[obs_period-1:],moving_avg,color='black',linestyle='--',label='moving averages')\n",
        "ax.scatter(buy_dates[:,0],buy_dates[:,2],c='yellow',marker='^',label='Buy')\n",
        "ax.scatter(sell_dates[:,0],sell_dates[:,2],c='red',marker='o',label='Sell')\n",
        "plt.legend()\n",
        "plt.grid(True)\n",
        "plt.show()"
      ],
      "metadata": {
        "colab": {
          "base_uri": "https://localhost:8080/",
          "height": 430
        },
        "id": "N-p2VN4hp8x3",
        "outputId": "691a5784-2de1-4695-91b8-79bc4b73ec7d"
      },
      "execution_count": null,
      "outputs": [
        {
          "output_type": "display_data",
          "data": {
            "text/plain": [
              "<Figure size 640x480 with 1 Axes>"
            ],
            "image/png": "[encoded data removed]"
          },
          "metadata": {}
        }
      ]
    },
    {
      "cell_type": "code",
      "source": [
        "trade_dates = mov_avg_date[trade_freq-1::trade_freq]\n",
        "for row in trade_dates:\n",
        "  print(row)"
      ],
      "metadata": {
        "id": "NkJxYvEjv7wj",
        "outputId": "693827df-8094-4b75-e4a3-16ded777a9fe",
        "colab": {
          "base_uri": "https://localhost:8080/"
        }
      },
      "execution_count": null,
      "outputs": [
        {
          "output_type": "stream",
          "name": "stdout",
          "text": [
            "[Timestamp('2022-02-28 00:00:00') 441.9655592176649 436.6300048828125\n",
            " 'Buy']\n",
            "[Timestamp('2022-04-29 00:00:00') 435.92833455403644 412.0 'Buy']\n",
            "[Timestamp('2022-06-30 00:00:00') 385.2777760823567 377.25 'Buy']\n",
            "[Timestamp('2022-08-31 00:00:00') 415.9372236463758 395.17999267578125\n",
            " 'Buy']\n",
            "[Timestamp('2022-10-31 00:00:00') 371.1711120605469 386.2099914550781\n",
            " 'Sell']\n",
            "[Timestamp('2022-12-30 00:00:00') 388.00444369845917 382.42999267578125\n",
            " 'Buy']\n"
          ]
        }
      ]
    },
    {
      "cell_type": "code",
      "source": [
        "initial_wealth = 1000\n",
        "\n",
        "for i in range(len(trade_dates)-1):\n",
        "  current_close = trade_dates[i][2]\n",
        "  next_close = trade_dates[i + 1][2]\n",
        "  print('Current Close Amount : ',current_close)\n",
        "  print('Next Close Amount : ',next_close)\n",
        "  if trade_dates[i][3] == 'Buy':\n",
        "    profit_per_share = current_close - next_close\n",
        "  else:\n",
        "    profit_per_share = next_close - current_close\n",
        "\n",
        "  print('Profit Per Share:',profit_per_share)\n",
        "\n",
        "  total_shares = initial_wealth / current_close\n",
        "  print('Total Shares to buy/sell:',total_shares)\n",
        "\n",
        "  profit = total_shares * profit_per_share\n",
        "  print('Profit :',profit)\n",
        "\n",
        "  initial_wealth += profit\n",
        "  print(f\"Current wealth: {initial_wealth:.2f}\")\n",
        "  print('++++++++++++++++++++++++')\n",
        "\n",
        "print(f\"Final wealth: {initial_wealth:.2f}\")"
      ],
      "metadata": {
        "colab": {
          "base_uri": "https://localhost:8080/"
        },
        "id": "EkkaiQ32p80t",
        "outputId": "196b47ef-e98c-4323-fd91-4aab6e3196dd"
      },
      "execution_count": null,
      "outputs": [
        {
          "output_type": "stream",
          "name": "stdout",
          "text": [
            "Current Close Amount :  436.6300048828125\n",
            "Next Close Amount :  412.0\n",
            "Profit Per Share: 24.6300048828125\n",
            "Total Shares to buy/sell: 2.2902686229005056\n",
            "Profit : 56.40932736499171\n",
            "Current wealth: 1056.41\n",
            "++++++++++++++++++++++++\n",
            "Current Close Amount :  412.0\n",
            "Next Close Amount :  377.25\n",
            "Profit Per Share: 34.75\n",
            "Total Shares to buy/sell: 2.5641003091383294\n",
            "Profit : 89.10248574255695\n",
            "Current wealth: 1145.51\n",
            "++++++++++++++++++++++++\n",
            "Current Close Amount :  377.25\n",
            "Next Close Amount :  395.17999267578125\n",
            "Profit Per Share: -17.92999267578125\n",
            "Total Shares to buy/sell: 3.036479292531607\n",
            "Profit : -54.44405147525314\n",
            "Current wealth: 1091.07\n",
            "++++++++++++++++++++++++\n",
            "Current Close Amount :  395.17999267578125\n",
            "Next Close Amount :  386.2099914550781\n",
            "Profit Per Share: 8.970001220703125\n",
            "Total Shares to buy/sell: 2.760938766774672\n",
            "Profit : 24.765624108255388\n",
            "Current wealth: 1115.83\n",
            "++++++++++++++++++++++++\n",
            "Current Close Amount :  386.2099914550781\n",
            "Next Close Amount :  382.42999267578125\n",
            "Profit Per Share: -3.779998779296875\n",
            "Total Shares to buy/sell: 2.8891882924534302\n",
            "Profit : -10.92112821863279\n",
            "Current wealth: 1104.91\n",
            "++++++++++++++++++++++++\n",
            "Final wealth: 1104.91\n"
          ]
        }
      ]
    },
    {
      "cell_type": "code",
      "source": [],
      "metadata": {
        "id": "7WqCsmJ-p83o"
      },
      "execution_count": null,
      "outputs": []
    },
    {
      "cell_type": "code",
      "source": [],
      "metadata": {
        "id": "oIawfwsup86T"
      },
      "execution_count": null,
      "outputs": []
    },
    {
      "cell_type": "code",
      "source": [],
      "metadata": {
        "id": "bt00KdTwp894"
      },
      "execution_count": null,
      "outputs": []
    }
  ]
}